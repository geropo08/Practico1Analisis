{
 "cells": [
  {
   "cell_type": "markdown",
   "metadata": {},
   "source": [
    "<B>PRIMER PRACTICO"
   ]
  },
  {
   "cell_type": "markdown",
   "metadata": {},
   "source": [
    "1.Importar librerias y abrir dataset"
   ]
  },
  {
   "cell_type": "code",
   "execution_count": 22,
   "id": "72e08203",
   "metadata": {},
   "outputs": [],
   "source": [
    "import pandas as pd\n",
    "import numpy as np\n",
    "import matplotlib.pyplot as plt\n",
    "import seaborn as sns"
   ]
  },
  {
   "cell_type": "code",
   "execution_count": 23,
   "id": "5a6ad43c",
   "metadata": {
    "scrolled": false
   },
   "outputs": [],
   "source": [
    "dataSet=pd.read_csv(\"permisos_construccion_2.csv\",low_memory=False)"
   ]
  },
  {
   "cell_type": "markdown",
   "id": "463a3b0c",
   "metadata": {},
   "source": [
    "2. Interpretacion\n",
    "\n",
    "Numero de permiso:\n",
    "Numero asignado al completar el formulario\n",
    "\n",
    "Tipo de permiso:\n",
    "Tipo de representado representado numericamente\n",
    "\n",
    "Definición de Tipo de Permiso:\n",
    "Descripción del tipo de permiso, por ejemplo nueva construcción, modificaciones\n",
    "\n",
    "Fecha de Creación del Permiso:\t\n",
    "Fecha en que se creó el permiso, posterior o igual a la fecha de presentación\n",
    "\n",
    "Bloque:\n",
    "Relacionado con la dirección\n",
    "\n",
    "Lote:\n",
    "Relacionado con la dirección\n",
    "\n",
    "Número de Calle:\n",
    "Relacionado con la dirección\n",
    "\n",
    "Sufijo de Número de Calle:\n",
    "Relacionado con la dirección\n",
    "\n",
    "Nombre de la Calle:\n",
    "Relacionado con la dirección\n",
    "\n",
    "Sufijo de Nombre de la Calle:\n",
    "Relacionado con la dirección\n",
    "\n",
    "Unidad:\n",
    "Unidad de un edificio\n",
    "\n",
    "Sufijo de Unidad:\n",
    "Sufijo, si hay alguno, para la unidad\n",
    "\n",
    "Descripción:\n",
    "Detalles sobre el propósito del permiso. Ejemplo: retejado, renovación de baño\n",
    "\n",
    "Estado Actual:\n",
    "Estado actual de la solicitud de permiso\n",
    "\n",
    "Fecha de Estado Actual:\n",
    "Fecha en que se ingresó el estado actual\n",
    "\n",
    "Fecha de Presentación:\n",
    "Fecha de presentación del permiso\n",
    "\n",
    "Fecha de Emisión:\n",
    "Fecha de emisión del permiso\n",
    "\n",
    "Fecha de Finalización:\n",
    "Fecha en que se completó el proyecto, aplicable si Estado Actual = \"completado\"\n",
    "\n",
    "Fecha del Primer Documento de Construcción:\n",
    "Fecha en que se documentó la construcción\n",
    "\n",
    "Notificación Estructural:\n",
    "Notificación para cumplir con alguna necesidad legal, otorgada o no\n",
    "\n",
    "Número de Pisos Existentes:\n",
    "Número de pisos existentes en el edificio. No aplicable para ciertos tipos de permisos\n",
    "\n",
    "Número de Pisos Propuestos:\n",
    "Número de pisos propuestos para la construcción/modificación\n",
    "\n",
    "Reforzamiento Voluntario de Pisos Blandos:\n",
    "Reforzamiento de piso blando para cumplir con regulaciones sísmicas\n",
    "\n",
    "Permiso Solo de Incendios:\n",
    "Permiso relacionado con la prevención de riesgos de incendio\n",
    "\n",
    "Fecha de Vencimiento del Permiso:\n",
    "Fecha de vencimiento relacionada con el permiso emitido\n",
    "\n",
    "Costo Estimado:\n",
    "Estimación inicial del costo del proyecto\n",
    "\n",
    "Costo Revisado:\n",
    "Estimación revisada del costo del proyecto\n",
    "\n",
    "Uso Existente:\n",
    "Uso actual del edificio\n",
    "\n",
    "Unidades Existentes:\n",
    "Número actual de unidades\n",
    "\n",
    "Uso Propuesto:\n",
    "Uso propuesto del edificio\n",
    "\n",
    "Unidades Propuestas:\n",
    "Número propuesto de unidades\n",
    "\n",
    "Juegos de Planos:\n",
    "Representación del plan que indica el diseño general de la fundación\n",
    "\n",
    "Cumplimiento TIDF:\n",
    "Cumplimiento con TIDF o no, este es un nuevo requisito legal\n",
    "\n",
    "Tipo de Construcción Existente:\n",
    "Tipo de construcción existente, categorizado numéricamente\n",
    "\n",
    "Descripción del Tipo de Construcción Existente:\n",
    "Descripción del tipo anterior, por ejemplo, madera u otros tipos de construcción\n",
    "\n",
    "Tipo de Construcción Propuesto:\n",
    "Tipo de construcción propuesto, categorizado numéricamente\n",
    "\n",
    "Descripción del Tipo de Construcción Propuesto:\n",
    "Descripción del tipo anterior\n",
    "\n",
    "Permiso de Sitio:\n",
    "Permiso para sitio\n",
    "\n",
    "Distrito del Supervisor:\n",
    "Distrito del supervisor al que pertenece la ubicación del edificio\n",
    "\n",
    "Barrios - Límites de Análisis:\n",
    "Barrio al que pertenece la ubicación del edificio\n",
    "\n",
    "Código Postal:\n",
    "Código postal de la dirección del edificio\n",
    "\n",
    "Ubicación:\n",
    "Ubicación en par de coordenadas de latitud y longitud\n",
    "\n",
    "ID de Registro:\n",
    "Alguna identificación, no útil para esto"
   ]
  },
  {
   "cell_type": "markdown",
   "id": "548426e4",
   "metadata": {},
   "source": [
    "3. Analisis Exploratorio"
   ]
  },
  {
   "cell_type": "markdown",
   "id": "51d88562",
   "metadata": {},
   "source": [
    "a) Tamaño"
   ]
  },
  {
   "cell_type": "markdown",
   "id": "5d390717",
   "metadata": {},
   "source": [
    "Utilizaremos la funcion shape para poder vizualizar el tamaño del dataset, la primera coordenada son la cantidad de filas y la segunda la cantidad de columnas"
   ]
  },
  {
   "cell_type": "code",
   "execution_count": 4,
   "id": "8c6c0618",
   "metadata": {},
   "outputs": [
    {
     "data": {
      "text/plain": [
       "(198910, 43)"
      ]
     },
     "execution_count": 4,
     "metadata": {},
     "output_type": "execute_result"
    }
   ],
   "source": [
    "dataSet.shape"
   ]
  },
  {
   "cell_type": "markdown",
   "id": "63e309b7",
   "metadata": {},
   "source": [
    "Como se puede observar, tenemos 198910 filas y 43 columnas"
   ]
  },
  {
   "cell_type": "markdown",
   "id": "555de0f4",
   "metadata": {},
   "source": [
    "b)  Mostrar primeras filas"
   ]
  },
  {
   "cell_type": "code",
   "execution_count": 48,
   "id": "f8a000e7",
   "metadata": {},
   "outputs": [
    {
     "data": {
      "text/html": [
       "<div>\n",
       "<style scoped>\n",
       "    .dataframe tbody tr th:only-of-type {\n",
       "        vertical-align: middle;\n",
       "    }\n",
       "\n",
       "    .dataframe tbody tr th {\n",
       "        vertical-align: top;\n",
       "    }\n",
       "\n",
       "    .dataframe thead th {\n",
       "        text-align: right;\n",
       "    }\n",
       "</style>\n",
       "<table border=\"1\" class=\"dataframe\">\n",
       "  <thead>\n",
       "    <tr style=\"text-align: right;\">\n",
       "      <th></th>\n",
       "      <th>Permit Number</th>\n",
       "      <th>Permit Type</th>\n",
       "      <th>Permit Type Definition</th>\n",
       "      <th>Permit Creation Date</th>\n",
       "      <th>Block</th>\n",
       "      <th>Lot</th>\n",
       "      <th>Street Number</th>\n",
       "      <th>Street Number Suffix</th>\n",
       "      <th>Street Name</th>\n",
       "      <th>Street Suffix</th>\n",
       "      <th>...</th>\n",
       "      <th>Existing Construction Type</th>\n",
       "      <th>Existing Construction Type Description</th>\n",
       "      <th>Proposed Construction Type</th>\n",
       "      <th>Proposed Construction Type Description</th>\n",
       "      <th>Site Permit</th>\n",
       "      <th>Supervisor District</th>\n",
       "      <th>Neighborhoods - Analysis Boundaries</th>\n",
       "      <th>Zipcode</th>\n",
       "      <th>Location</th>\n",
       "      <th>Record ID</th>\n",
       "    </tr>\n",
       "  </thead>\n",
       "  <tbody>\n",
       "    <tr>\n",
       "      <th>0</th>\n",
       "      <td>M394467</td>\n",
       "      <td>8</td>\n",
       "      <td>otc alterations permit</td>\n",
       "      <td>5/15/2013</td>\n",
       "      <td>3751</td>\n",
       "      <td>172</td>\n",
       "      <td>300</td>\n",
       "      <td>0</td>\n",
       "      <td>03rD</td>\n",
       "      <td>St</td>\n",
       "      <td>...</td>\n",
       "      <td>NaN</td>\n",
       "      <td>NaN</td>\n",
       "      <td>NaN</td>\n",
       "      <td>NaN</td>\n",
       "      <td>NaN</td>\n",
       "      <td>NaN</td>\n",
       "      <td>NaN</td>\n",
       "      <td>NaN</td>\n",
       "      <td>NaN</td>\n",
       "      <td>1.304810e+12</td>\n",
       "    </tr>\n",
       "    <tr>\n",
       "      <th>1</th>\n",
       "      <td>2.01505E+11</td>\n",
       "      <td>8</td>\n",
       "      <td>otc alterations permit</td>\n",
       "      <td>5/22/2015</td>\n",
       "      <td>3556</td>\n",
       "      <td>6</td>\n",
       "      <td>328</td>\n",
       "      <td>A</td>\n",
       "      <td>gUeRrErO</td>\n",
       "      <td>St</td>\n",
       "      <td>...</td>\n",
       "      <td>5.0</td>\n",
       "      <td>wood frame (5)</td>\n",
       "      <td>5.0</td>\n",
       "      <td>wood frame (5)</td>\n",
       "      <td>NaN</td>\n",
       "      <td>8</td>\n",
       "      <td>Mission</td>\n",
       "      <td>94103.0</td>\n",
       "      <td>(37.765906581390105, -122.42453043666066)</td>\n",
       "      <td>1.382530e+12</td>\n",
       "    </tr>\n",
       "    <tr>\n",
       "      <th>2</th>\n",
       "      <td>M798247</td>\n",
       "      <td>8</td>\n",
       "      <td>otc alterations permit</td>\n",
       "      <td>6/16/2017</td>\n",
       "      <td>655</td>\n",
       "      <td>61</td>\n",
       "      <td>2426</td>\n",
       "      <td>A</td>\n",
       "      <td>pInE</td>\n",
       "      <td>St</td>\n",
       "      <td>...</td>\n",
       "      <td>NaN</td>\n",
       "      <td>NaN</td>\n",
       "      <td>NaN</td>\n",
       "      <td>NaN</td>\n",
       "      <td>NaN</td>\n",
       "      <td>2</td>\n",
       "      <td>Pacific Heights</td>\n",
       "      <td>94115.0</td>\n",
       "      <td>(37.78788490521045, -122.43641930200963)</td>\n",
       "      <td>1.467270e+12</td>\n",
       "    </tr>\n",
       "    <tr>\n",
       "      <th>3</th>\n",
       "      <td>2.01308E+11</td>\n",
       "      <td>8</td>\n",
       "      <td>otc alterations permit</td>\n",
       "      <td>8/16/2013</td>\n",
       "      <td>4267</td>\n",
       "      <td>29</td>\n",
       "      <td>2607</td>\n",
       "      <td>A</td>\n",
       "      <td>bRyAnT</td>\n",
       "      <td>St</td>\n",
       "      <td>...</td>\n",
       "      <td>5.0</td>\n",
       "      <td>wood frame (5)</td>\n",
       "      <td>5.0</td>\n",
       "      <td>wood frame (5)</td>\n",
       "      <td>NaN</td>\n",
       "      <td>9</td>\n",
       "      <td>Mission</td>\n",
       "      <td>94110.0</td>\n",
       "      <td>(37.75241643936911, -122.40877419451499)</td>\n",
       "      <td>1.314500e+12</td>\n",
       "    </tr>\n",
       "    <tr>\n",
       "      <th>4</th>\n",
       "      <td>2.01307E+11</td>\n",
       "      <td>8</td>\n",
       "      <td>otc alterations permit</td>\n",
       "      <td>7/26/2013</td>\n",
       "      <td>1518</td>\n",
       "      <td>37</td>\n",
       "      <td>535</td>\n",
       "      <td>A</td>\n",
       "      <td>26tH</td>\n",
       "      <td>Av</td>\n",
       "      <td>...</td>\n",
       "      <td>5.0</td>\n",
       "      <td>wood frame (5)</td>\n",
       "      <td>5.0</td>\n",
       "      <td>wood frame (5)</td>\n",
       "      <td>NaN</td>\n",
       "      <td>1</td>\n",
       "      <td>Outer Richmond</td>\n",
       "      <td>94121.0</td>\n",
       "      <td>(37.77928233382438, -122.48608415176169)</td>\n",
       "      <td>1.312290e+12</td>\n",
       "    </tr>\n",
       "  </tbody>\n",
       "</table>\n",
       "<p>5 rows × 43 columns</p>\n",
       "</div>"
      ],
      "text/plain": [
       "  Permit Number  Permit Type  Permit Type Definition Permit Creation Date  \\\n",
       "0       M394467            8  otc alterations permit            5/15/2013   \n",
       "1   2.01505E+11            8  otc alterations permit            5/22/2015   \n",
       "2       M798247            8  otc alterations permit            6/16/2017   \n",
       "3   2.01308E+11            8  otc alterations permit            8/16/2013   \n",
       "4   2.01307E+11            8  otc alterations permit            7/26/2013   \n",
       "\n",
       "  Block  Lot  Street Number Street Number Suffix Street Name Street Suffix  \\\n",
       "0  3751  172            300                    0        03rD            St   \n",
       "1  3556    6            328                    A    gUeRrErO            St   \n",
       "2   655   61           2426                    A        pInE            St   \n",
       "3  4267   29           2607                    A      bRyAnT            St   \n",
       "4  1518   37            535                    A        26tH            Av   \n",
       "\n",
       "   ...  Existing Construction Type Existing Construction Type Description  \\\n",
       "0  ...                         NaN                                    NaN   \n",
       "1  ...                         5.0                         wood frame (5)   \n",
       "2  ...                         NaN                                    NaN   \n",
       "3  ...                         5.0                         wood frame (5)   \n",
       "4  ...                         5.0                         wood frame (5)   \n",
       "\n",
       "  Proposed Construction Type Proposed Construction Type Description  \\\n",
       "0                        NaN                                    NaN   \n",
       "1                        5.0                         wood frame (5)   \n",
       "2                        NaN                                    NaN   \n",
       "3                        5.0                         wood frame (5)   \n",
       "4                        5.0                         wood frame (5)   \n",
       "\n",
       "  Site Permit Supervisor District Neighborhoods - Analysis Boundaries  \\\n",
       "0         NaN                 NaN                                 NaN   \n",
       "1         NaN                   8                             Mission   \n",
       "2         NaN                   2                     Pacific Heights   \n",
       "3         NaN                   9                             Mission   \n",
       "4         NaN                   1                      Outer Richmond   \n",
       "\n",
       "   Zipcode                                   Location     Record ID  \n",
       "0      NaN                                        NaN  1.304810e+12  \n",
       "1  94103.0  (37.765906581390105, -122.42453043666066)  1.382530e+12  \n",
       "2  94115.0   (37.78788490521045, -122.43641930200963)  1.467270e+12  \n",
       "3  94110.0   (37.75241643936911, -122.40877419451499)  1.314500e+12  \n",
       "4  94121.0   (37.77928233382438, -122.48608415176169)  1.312290e+12  \n",
       "\n",
       "[5 rows x 43 columns]"
      ]
     },
     "execution_count": 48,
     "metadata": {},
     "output_type": "execute_result"
    }
   ],
   "source": [
    "dataSet.head()"
   ]
  },
  {
   "cell_type": "markdown",
   "id": "489d16f7",
   "metadata": {},
   "source": [
    "c) Datos faltantes por fila"
   ]
  },
  {
   "cell_type": "code",
   "execution_count": 6,
   "id": "4f20756a",
   "metadata": {},
   "outputs": [
    {
     "data": {
      "text/plain": [
       "Permit Number                              0.000000\n",
       "Permit Type                                0.000000\n",
       "Permit Type Definition                     0.000000\n",
       "Permit Creation Date                       0.000000\n",
       "Block                                      0.000000\n",
       "Lot                                        0.000000\n",
       "Street Number                              0.000000\n",
       "Street Number Suffix                      98.885928\n",
       "Street Name                                0.000000\n",
       "Street Suffix                              1.391584\n",
       "Unit                                      85.179227\n",
       "Unit Suffix                               99.014127\n",
       "Description                                0.145795\n",
       "Current Status                             0.000000\n",
       "Current Status Date                        0.000000\n",
       "Filed Date                                 0.000000\n",
       "Issued Date                                7.511940\n",
       "Completed Date                            51.136192\n",
       "First Construction Document Date           7.514957\n",
       "Structural Notification                   96.520034\n",
       "Number of Existing Stories                21.511236\n",
       "Number of Proposed Stories                21.552964\n",
       "Voluntary Soft-Story Retrofit             99.982404\n",
       "Fire Only Permit                          90.534413\n",
       "Permit Expiration Date                    26.084159\n",
       "Estimated Cost                            19.138304\n",
       "Revised Cost                               3.049620\n",
       "Existing Use                              20.671158\n",
       "Existing Units                            25.912724\n",
       "Proposed Use                              21.336785\n",
       "Proposed Units                            25.597004\n",
       "Plansets                                  18.757730\n",
       "TIDF Compliance                           99.998995\n",
       "Existing Construction Type                21.803328\n",
       "Existing Construction Type Description    21.803831\n",
       "Proposed Construction Type                21.700769\n",
       "Proposed Construction Type Description    21.700769\n",
       "Site Permit                               97.305314\n",
       "Supervisor District                        0.864210\n",
       "Neighborhoods - Analysis Boundaries        0.867226\n",
       "Zipcode                                    0.862702\n",
       "Location                                   0.854658\n",
       "Record ID                                  0.000000\n",
       "dtype: float64"
      ]
     },
     "execution_count": 6,
     "metadata": {},
     "output_type": "execute_result"
    }
   ],
   "source": [
    "dataSet.isnull().sum()*100/len(dataSet)"
   ]
  },
  {
   "cell_type": "markdown",
   "id": "e7525aa9",
   "metadata": {},
   "source": [
    "Los primeros datos que vemos con varios nulos son la unidad, el sufijo de la unidad y el sufijo del numero de calle (Street Number Suffix, Unit, Unit Suffix). Esta informacion puede no corresponder a ciertas ubicaciones y por eso es que hay varios valores nulos. Ademas, puede que hayan puesto esta informacion en la direccion directamente, sin dividir por categoria o tambien puede ser que no sepan esta informacion especifica al rellenar el formulario."
   ]
  },
  {
   "cell_type": "markdown",
   "id": "c4154e0f",
   "metadata": {},
   "source": [
    "Luego, la fecha de finalizacion tiene la mitad con nulos, esto problablemente se deba a que los trabajos no han sido completados. Vemos que si hacemos la comparacion del estado con la fecha de completado, los que tienen fecha la gran mayoria se encuentran completados y los que no tienen fecha ninguno de ellos esta completo."
   ]
  },
  {
   "cell_type": "code",
   "execution_count": 7,
   "id": "50c4b0c5",
   "metadata": {},
   "outputs": [],
   "source": [
    "estado_sin_fecha = dataSet[dataSet['Completed Date'].isna()]['Current Status'].value_counts()\n",
    "estado_con_fecha = dataSet[dataSet['Completed Date'].notna()]['Current Status'].value_counts()"
   ]
  },
  {
   "cell_type": "code",
   "execution_count": 8,
   "id": "e106210d",
   "metadata": {},
   "outputs": [
    {
     "name": "stdout",
     "output_type": "stream",
     "text": [
      "issued         83510\n",
      "filed          12045\n",
      "withdrawn       1754\n",
      "cancelled       1531\n",
      "expired         1363\n",
      "approved         728\n",
      "reinstated       527\n",
      "suspend          190\n",
      "revoked           46\n",
      "plancheck         16\n",
      "disapproved        2\n",
      "appeal             2\n",
      "incomplete         1\n",
      "Name: Current Status, dtype: int64\n"
     ]
    }
   ],
   "source": [
    "print(estado_sin_fecha)"
   ]
  },
  {
   "cell_type": "code",
   "execution_count": 9,
   "id": "8396b1f4",
   "metadata": {},
   "outputs": [
    {
     "name": "stdout",
     "output_type": "stream",
     "text": [
      "complete      97081\n",
      "issued           53\n",
      "reinstated       36\n",
      "expired           7\n",
      "cancelled         5\n",
      "approved          5\n",
      "revoked           4\n",
      "suspend           3\n",
      "incomplete        1\n",
      "Name: Current Status, dtype: int64\n"
     ]
    }
   ],
   "source": [
    "print(estado_con_fecha)"
   ]
  },
  {
   "cell_type": "markdown",
   "id": "9b25e70d",
   "metadata": {},
   "source": [
    "\n",
    "En el caso de Notificacion estructural, reforzmiento voluntario de pisos blandos, permiso de incendios, cumplimiento TIDF y permiso de sitio (Structural Notification, Voluntary Soft-Story Retrofit, Fire Only Permit, TIDF Compliance, Site Permit) al ser variables booleanas, el no se deja como vacio y por eso hay tantos null."
   ]
  },
  {
   "cell_type": "code",
   "execution_count": 10,
   "id": "30999aa2",
   "metadata": {},
   "outputs": [
    {
     "data": {
      "text/plain": [
       "Y    6922\n",
       "Name: Structural Notification, dtype: int64"
      ]
     },
     "execution_count": 10,
     "metadata": {},
     "output_type": "execute_result"
    }
   ],
   "source": [
    "dataSet['Structural Notification'].value_counts()"
   ]
  },
  {
   "cell_type": "markdown",
   "id": "fb972a6d",
   "metadata": {},
   "source": [
    "e) \n",
    "\n",
    "Variables Discretas:\n",
    "- `Permit Type`\n",
    "- `Permit Type Definition`\n",
    "-   Current Status`\n",
    "- SstructuralNnotification`\n",
    "- `Number of Existing Stories` &#x2717;\n",
    "- `Number of proposed stories` &#x2717;\n",
    "\n",
    "- `Voluntary Soft-Story Retrfit`\n",
    "\n",
    "- `Fire Only Permit`\n",
    "\n",
    "- `Existing Use` \n",
    "\n",
    "- existing units&#x2717; \n",
    "\n",
    "- proposed units&#x2717; \n",
    "\n",
    "- tidf compliance\n",
    " \n",
    "- existing construction type\n",
    "\n",
    "- proposed construction type\n",
    "\n",
    "- site permit"
   ]
  },
  {
   "cell_type": "markdown",
   "metadata": {},
   "source": [
    "Las 2 primeras variables discretas son el tipo de permiso y su descripcion"
   ]
  },
  {
   "cell_type": "code",
   "execution_count": 11,
   "id": "886aa6b8",
   "metadata": {},
   "outputs": [
    {
     "data": {
      "text/plain": [
       "8    178852\n",
       "3     14664\n",
       "4      2892\n",
       "2       950\n",
       "6       600\n",
       "7       511\n",
       "1       350\n",
       "5        91\n",
       "Name: Permit Type, dtype: int64"
      ]
     },
     "execution_count": 11,
     "metadata": {},
     "output_type": "execute_result"
    }
   ],
   "source": [
    "dataSet['Permit Type'].value_counts()"
   ]
  },
  {
   "cell_type": "code",
   "execution_count": 20,
   "metadata": {},
   "outputs": [
    {
     "data": {
      "text/plain": [
       "otc alterations permit                 178836\n",
       "additions alterations or repairs        14663\n",
       "sign - erect                             2892\n",
       "new construction wood frame               950\n",
       "demolitions                               600\n",
       "wall or painted sign                      511\n",
       "new construction                          347\n",
       "grade or quarry or fill or excavate        91\n",
       " otc alterations permit                     8\n",
       "otc alterations permit #                    8\n",
       "new construction #                          2\n",
       " new construction                           1\n",
       " additions alterations or repairs           1\n",
       "Name: Permit Type Definition, dtype: int64"
      ]
     },
     "execution_count": 20,
     "metadata": {},
     "output_type": "execute_result"
    }
   ],
   "source": [
    "dataSet['Permit Type Definition'].value_counts()"
   ]
  },
  {
   "cell_type": "markdown",
   "metadata": {},
   "source": [
    "Como se puede observar, el tipo de permiso tiene valores que van del 1 al 8. La descripcion del tipo de permiso se deberia de corresponder con algun numero, pero se nota que hay mas definiciones. Esto se debe a que las definiciones, a pesar de ser iguales tienen algun caracter de diferencia por lo que las pone en lugares distintos."
   ]
  },
  {
   "cell_type": "markdown",
   "metadata": {},
   "source": [
    "Si agrupamos los numeros y que definicion tiene cada uno, se observa lo siguiente:"
   ]
  },
  {
   "cell_type": "code",
   "execution_count": 55,
   "metadata": {},
   "outputs": [
    {
     "name": "stdout",
     "output_type": "stream",
     "text": [
      "Numero 1\n",
      "['new construction' ' new construction ' 'new construction #']\n",
      "Numero 2\n",
      "['new construction wood frame']\n",
      "Numero 3\n",
      "['additions alterations or repairs' ' additions alterations or repairs ']\n",
      "Numero 4\n",
      "['sign - erect']\n",
      "Numero 5\n",
      "['grade or quarry or fill or excavate']\n",
      "Numero 6\n",
      "['demolitions']\n",
      "Numero 7\n",
      "['wall or painted sign']\n",
      "Numero 8\n",
      "['otc alterations permit' ' otc alterations permit '\n",
      " 'otc alterations permit #']\n"
     ]
    }
   ],
   "source": [
    "grupos=dataSet.groupby('Permit Type')['Permit Type Definition'].unique()\n",
    "for i in range(1,9):\n",
    "    print(f\"Numero {i}\")\n",
    "    print(grupos[i])"
   ]
  },
  {
   "cell_type": "markdown",
   "metadata": {},
   "source": [
    "Habria que modificar las definiciones de permiso 1, 3 y 8 para que concuerden"
   ]
  },
  {
   "cell_type": "markdown",
   "metadata": {},
   "source": []
  },
  {
   "cell_type": "markdown",
   "metadata": {},
   "source": []
  },
  {
   "cell_type": "markdown",
   "id": "ede56468",
   "metadata": {},
   "source": []
  },
  {
   "cell_type": "code",
   "execution_count": 85,
   "id": "ab3236f0",
   "metadata": {},
   "outputs": [
    {
     "data": {
      "text/plain": [
       "complete       97081\n",
       "issued         83563\n",
       "filed          12045\n",
       "withdrawn       1754\n",
       "cancelled       1536\n",
       "expired         1370\n",
       "approved         733\n",
       "reinstated       563\n",
       "suspend          193\n",
       "revoked           50\n",
       "plancheck         16\n",
       "incomplete         2\n",
       "disapproved        2\n",
       "appeal             2\n",
       "Name: Current Status, dtype: int64"
      ]
     },
     "execution_count": 85,
     "metadata": {},
     "output_type": "execute_result"
    }
   ],
   "source": [
    "dataSet['Current Status'].value_counts()"
   ]
  },
  {
   "cell_type": "code",
   "execution_count": 14,
   "id": "8e334781",
   "metadata": {},
   "outputs": [
    {
     "data": {
      "text/plain": [
       "array([ nan,  3. ,  2. ,  1. ,  4. ,  5. , 28. ,  0. , 11. ,  6. , 40. ,\n",
       "       29. ,  8. ,  9. , 18. , 30. , 24. , 23. , 12. , 38. , 42. , 20. ,\n",
       "       25. ,  7. , 52. , 10. , 43. , 16. , 14. , 48. , 21. , 33. , 22. ,\n",
       "       27. , 37. , 13. , 32. , 31. , 15. , 39. , 58. , 19. , 17. , 26. ,\n",
       "       63. , 34. , 36. , 35. , 50. , 41. , 44. , 45. , 53. , 47. , 49. ,\n",
       "       60. , 46. , 61. , 55. , 62. , 54. ,  1.5, 56. , 78. ,  2.5])"
      ]
     },
     "execution_count": 14,
     "metadata": {},
     "output_type": "execute_result"
    }
   ],
   "source": [
    "dataSet['Number of Existing Stories'].unique()"
   ]
  },
  {
   "cell_type": "code",
   "execution_count": 47,
   "id": "9289efa1",
   "metadata": {},
   "outputs": [
    {
     "data": {
      "text/plain": [
       "2.0     52770\n",
       "3.0     45741\n",
       "4.0     16055\n",
       "1.0      8793\n",
       "5.0      3767\n",
       "        ...  \n",
       "49.0        3\n",
       "62.0        2\n",
       "2.5         2\n",
       "1.5         1\n",
       "78.0        1\n",
       "Name: Number of Existing Stories, Length: 64, dtype: int64"
      ]
     },
     "execution_count": 47,
     "metadata": {},
     "output_type": "execute_result"
    }
   ],
   "source": [
    "dataSet['Number of Existing Stories'].value_counts()"
   ]
  },
  {
   "cell_type": "code",
   "execution_count": 44,
   "id": "19160355",
   "metadata": {},
   "outputs": [
    {
     "data": {
      "text/plain": [
       "array([ nan,  3. ,  2. ,  1. ,  4. ,  5. , 28. , 11. ,  0. ,  6. , 40. ,\n",
       "       29. ,  8. , 21. ,  9. , 18. , 30. , 24. , 23. , 12. , 38. , 42. ,\n",
       "       20. , 25. ,  7. , 52. , 10. , 43. , 16. , 14. , 48. , 33. , 63. ,\n",
       "       22. , 27. , 19. , 37. , 13. , 32. , 31. , 15. , 39. , 58. , 17. ,\n",
       "       26. , 34. , 36. , 35. , 50. , 41. , 44. , 45. , 53. , 46. , 47. ,\n",
       "       55. , 60. , 49. , 56. , 61. , 62. , 54. ,  1.5, 78. ,  2.5])"
      ]
     },
     "execution_count": 44,
     "metadata": {},
     "output_type": "execute_result"
    }
   ],
   "source": [
    "dataSet['Number of Proposed Stories'].unique()"
   ]
  },
  {
   "cell_type": "markdown",
   "id": "e294b28f",
   "metadata": {},
   "source": [
    "dataSet['Number of Proposed Stories'].value_counts()"
   ]
  },
  {
   "cell_type": "code",
   "execution_count": 64,
   "id": "19b8f1cf",
   "metadata": {},
   "outputs": [
    {
     "data": {
      "text/plain": [
       "2.0     50994\n",
       "3.0     46803\n",
       "4.0     17594\n",
       "1.0      7893\n",
       "5.0      4044\n",
       "        ...  \n",
       "47.0        3\n",
       "49.0        3\n",
       "2.5         2\n",
       "1.5         1\n",
       "78.0        1\n",
       "Name: Number of Proposed Stories, Length: 64, dtype: int64"
      ]
     },
     "execution_count": 64,
     "metadata": {},
     "output_type": "execute_result"
    }
   ],
   "source": [
    "dataSet['Number of Proposed Stories'].value_counts()"
   ]
  },
  {
   "cell_type": "code",
   "execution_count": 80,
   "id": "a7b6c00a",
   "metadata": {},
   "outputs": [
    {
     "data": {
      "text/plain": [
       "Y    6922\n",
       "Name: Structural Notification, dtype: int64"
      ]
     },
     "execution_count": 80,
     "metadata": {},
     "output_type": "execute_result"
    }
   ],
   "source": [
    "dataSet['Structural Notification'].value_counts()"
   ]
  },
  {
   "cell_type": "code",
   "execution_count": 72,
   "id": "eb250fe4",
   "metadata": {},
   "outputs": [
    {
     "data": {
      "text/plain": [
       "Y    35\n",
       "Name: Voluntary Soft-Story Retrofit, dtype: int64"
      ]
     },
     "execution_count": 72,
     "metadata": {},
     "output_type": "execute_result"
    }
   ],
   "source": [
    "dataSet['Voluntary Soft-Story Retrofit'].value_counts()"
   ]
  },
  {
   "cell_type": "code",
   "execution_count": 82,
   "id": "d655ff6a",
   "metadata": {},
   "outputs": [
    {
     "data": {
      "text/plain": [
       "array([nan, 'Y'], dtype=object)"
      ]
     },
     "execution_count": 82,
     "metadata": {},
     "output_type": "execute_result"
    }
   ],
   "source": [
    "dataSet['Fire Only Permit'].unique()"
   ]
  },
  {
   "cell_type": "code",
   "execution_count": 70,
   "id": "32928e7e",
   "metadata": {},
   "outputs": [
    {
     "data": {
      "text/plain": [
       "array([nan, 'apartments', '2 family dwelling', '1 family dwelling',\n",
       "       'retail sales', 'food/beverage hndlng', 'warehouse,no frnitur',\n",
       "       'office', 'massage parlor', 'barber/beauty salon', 'vacant lot',\n",
       "       'storage shed', 'fence/retaining wall', 'day care home gt 12',\n",
       "       'workshop commercial', 'accessory cottage', 'artist live/work',\n",
       "       'residential hotel', 'auto repairs', 'prkng garage/public',\n",
       "       'lending institution', 'parking lot', 'prkng garage/private',\n",
       "       'stadium', 'filling/service stn', 'nursing home non amb',\n",
       "       'theater', 'school', 'tourist hotel/motel', 'church', 'mortuary',\n",
       "       'clinics-medic/dental', 'manufacturing', 'animal sale or care',\n",
       "       'misc group residns.', 'health studios & gym',\n",
       "       'sfpd or sffd station', 'christmas tree lot',\n",
       "       'warehouse, furniture', 'dry cleaners', 'club', 'wholesale sales',\n",
       "       'recreation bldg', 'nite club', 'power plant', 'garment shops',\n",
       "       'ambulance service', 'antenna', 'social care facility',\n",
       "       'public assmbly other', 'hospital', 'nursing home gt 6', 'museum',\n",
       "       'automobile sales', 'sound studio', 'laundry/laundromat',\n",
       "       'printing plant', 'day care center', 'radio & tv stations',\n",
       "       'library', 'nursery(floral)', 'moving & storage', 'greenhouse',\n",
       "       'sewage plant', 'amusement center', 'child care', 'dance hall',\n",
       "       'adult entertainment', 'muni carbarn', 'day care, non-res',\n",
       "       'phone xchnge/equip', 'jail', 'convalescent home', 'sign',\n",
       "       'storage tanks', 'tower', 'day care home 7 - 12',\n",
       "       'nursing home lte 6', 'swimming pool', 'car wash',\n",
       "       'chemical processing', 'paint store', 'building materials',\n",
       "       'day care home lt 7', 'dairies/dairy equip.', \"prson'l svc tutor\",\n",
       "       'muni driver restroom', 'meat/produce marts', 'temple',\n",
       "       'workshop residential', 'bath house', 'orphanage',\n",
       "       'r-3(dwg) nursing', 'roofing materials'], dtype=object)"
      ]
     },
     "execution_count": 70,
     "metadata": {},
     "output_type": "execute_result"
    }
   ],
   "source": [
    "dataSet['Existing Use'].unique()"
   ]
  },
  {
   "cell_type": "code",
   "execution_count": 60,
   "id": "6a8f15ba",
   "metadata": {},
   "outputs": [
    {
     "data": {
      "text/plain": [
       "1 family dwelling       46768\n",
       "apartments              40800\n",
       "office                  24617\n",
       "2 family dwelling       20988\n",
       "retail sales             6910\n",
       "                        ...  \n",
       "bath house                  2\n",
       "dairies/dairy equip.        1\n",
       "child care                  1\n",
       "orphanage                   1\n",
       "roofing materials           1\n",
       "Name: Existing Use, Length: 93, dtype: int64"
      ]
     },
     "execution_count": 60,
     "metadata": {},
     "output_type": "execute_result"
    }
   ],
   "source": [
    "dataSet['Existing Use'].value_counts()"
   ]
  },
  {
   "cell_type": "code",
   "execution_count": null,
   "id": "e22b9429",
   "metadata": {},
   "outputs": [],
   "source": []
  },
  {
   "cell_type": "code",
   "execution_count": null,
   "id": "18df3cdb",
   "metadata": {},
   "outputs": [],
   "source": []
  },
  {
   "cell_type": "code",
   "execution_count": null,
   "id": "c9ead4c1",
   "metadata": {},
   "outputs": [],
   "source": []
  }
 ],
 "metadata": {
  "kernelspec": {
   "display_name": "Python 3 (ipykernel)",
   "language": "python",
   "name": "python3"
  },
  "language_info": {
   "codemirror_mode": {
    "name": "ipython",
    "version": 3
   },
   "file_extension": ".py",
   "mimetype": "text/x-python",
   "name": "python",
   "nbconvert_exporter": "python",
   "pygments_lexer": "ipython3",
   "version": "3.11.3"
  }
 },
 "nbformat": 4,
 "nbformat_minor": 5
}
