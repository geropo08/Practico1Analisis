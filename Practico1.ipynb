{
 "cells": [
  {
   "cell_type": "markdown",
   "metadata": {},
   "source": [
    "<B>PRIMER PRACTICO"
   ]
  },
  {
   "cell_type": "markdown",
   "metadata": {},
   "source": [
    "# 1.Importar librerias y abrir dataset"
   ]
  },
  {
   "cell_type": "code",
   "execution_count": 75,
   "id": "72e08203",
   "metadata": {},
   "outputs": [],
   "source": [
    "import pandas as pd\n",
    "import numpy as np\n",
    "import matplotlib.pyplot as plt\n",
    "import seaborn as sns\n",
    "from sklearn.preprocessing import MinMaxScaler\n",
    "from ydata_profiling import ProfileReport"
   ]
  },
  {
   "cell_type": "code",
   "execution_count": 76,
   "id": "5a6ad43c",
   "metadata": {
    "scrolled": false
   },
   "outputs": [],
   "source": [
    "dataSet=pd.read_csv(\"permisos_construccion_2.csv\",low_memory=False)"
   ]
  },
  {
   "cell_type": "markdown",
   "id": "463a3b0c",
   "metadata": {},
   "source": [
    "# 2. Interpretacion\n",
    "\n",
    "Numero de permiso:\n",
    "Numero asignado al completar el formulario\n",
    "\n",
    "Tipo de permiso:\n",
    "Tipo de representado representado numericamente\n",
    "\n",
    "Definición de Tipo de Permiso:\n",
    "Descripción del tipo de permiso, por ejemplo nueva construcción, modificaciones\n",
    "\n",
    "Fecha de Creación del Permiso:\t\n",
    "Fecha en que se creó el permiso, posterior o igual a la fecha de presentación\n",
    "\n",
    "Bloque:\n",
    "Relacionado con la dirección\n",
    "\n",
    "Lote:\n",
    "Relacionado con la dirección\n",
    "\n",
    "Número de Calle:\n",
    "Relacionado con la dirección\n",
    "\n",
    "Sufijo de Número de Calle:\n",
    "Relacionado con la dirección\n",
    "\n",
    "Nombre de la Calle:\n",
    "Relacionado con la dirección\n",
    "\n",
    "Sufijo de Nombre de la Calle:\n",
    "Relacionado con la dirección\n",
    "\n",
    "Unidad:\n",
    "Unidad de un edificio\n",
    "\n",
    "Sufijo de Unidad:\n",
    "Sufijo, si hay alguno, para la unidad\n",
    "\n",
    "Descripción:\n",
    "Detalles sobre el propósito del permiso. Ejemplo: retejado, renovación de baño\n",
    "\n",
    "Estado Actual:\n",
    "Estado actual de la solicitud de permiso\n",
    "\n",
    "Fecha de Estado Actual:\n",
    "Fecha en que se ingresó el estado actual\n",
    "\n",
    "Fecha de Presentación:\n",
    "Fecha de presentación del permiso\n",
    "\n",
    "Fecha de Emisión:\n",
    "Fecha de emisión del permiso\n",
    "\n",
    "Fecha de Finalización:\n",
    "Fecha en que se completó el proyecto, aplicable si Estado Actual = \"completado\"\n",
    "\n",
    "Fecha del Primer Documento de Construcción:\n",
    "Fecha en que se documentó la construcción\n",
    "\n",
    "Notificación Estructural:\n",
    "Notificación para cumplir con alguna necesidad legal, otorgada o no\n",
    "\n",
    "Número de Pisos Existentes:\n",
    "Número de pisos existentes en el edificio. No aplicable para ciertos tipos de permisos\n",
    "\n",
    "Número de Pisos Propuestos:\n",
    "Número de pisos propuestos para la construcción/modificación\n",
    "\n",
    "Reforzamiento Voluntario de Pisos Blandos:\n",
    "Reforzamiento de piso blando para cumplir con regulaciones sísmicas\n",
    "\n",
    "Permiso Solo de Incendios:\n",
    "Permiso relacionado con la prevención de riesgos de incendio\n",
    "\n",
    "Fecha de Vencimiento del Permiso:\n",
    "Fecha de vencimiento relacionada con el permiso emitido\n",
    "\n",
    "Costo Estimado:\n",
    "Estimación inicial del costo del proyecto\n",
    "\n",
    "Costo Revisado:\n",
    "Estimación revisada del costo del proyecto\n",
    "\n",
    "Uso Existente:\n",
    "Uso actual del edificio\n",
    "\n",
    "Unidades Existentes:\n",
    "Número actual de unidades\n",
    "\n",
    "Uso Propuesto:\n",
    "Uso propuesto del edificio\n",
    "\n",
    "Unidades Propuestas:\n",
    "Número propuesto de unidades\n",
    "\n",
    "Juegos de Planos:\n",
    "Representación del plan que indica el diseño general de la fundación\n",
    "\n",
    "Cumplimiento TIDF:\n",
    "Cumplimiento con TIDF o no, este es un nuevo requisito legal\n",
    "\n",
    "Tipo de Construcción Existente:\n",
    "Tipo de construcción existente, categorizado numéricamente\n",
    "\n",
    "Descripción del Tipo de Construcción Existente:\n",
    "Descripción del tipo anterior, por ejemplo, madera u otros tipos de construcción\n",
    "\n",
    "Tipo de Construcción Propuesto:\n",
    "Tipo de construcción propuesto, categorizado numéricamente\n",
    "\n",
    "Descripción del Tipo de Construcción Propuesto:\n",
    "Descripción del tipo anterior\n",
    "\n",
    "Permiso de Sitio:\n",
    "Permiso para sitio\n",
    "\n",
    "Distrito del Supervisor:\n",
    "Distrito del supervisor al que pertenece la ubicación del edificio\n",
    "\n",
    "Barrios - Límites de Análisis:\n",
    "Barrio al que pertenece la ubicación del edificio\n",
    "\n",
    "Código Postal:\n",
    "Código postal de la dirección del edificio\n",
    "\n",
    "Ubicación:\n",
    "Ubicación en par de coordenadas de latitud y longitud\n",
    "\n",
    "ID de Registro:\n",
    "Alguna identificación, no útil para esto"
   ]
  },
  {
   "cell_type": "markdown",
   "id": "548426e4",
   "metadata": {},
   "source": [
    "# 3. Analisis Exploratorio"
   ]
  },
  {
   "cell_type": "markdown",
   "id": "51d88562",
   "metadata": {},
   "source": [
    "a) Tamaño"
   ]
  },
  {
   "cell_type": "markdown",
   "id": "5d390717",
   "metadata": {},
   "source": [
    "Utilizaremos la funcion shape para poder vizualizar el tamaño del dataset, la primera coordenada son la cantidad de filas y la segunda la cantidad de columnas"
   ]
  },
  {
   "cell_type": "code",
   "execution_count": 77,
   "id": "8c6c0618",
   "metadata": {},
   "outputs": [
    {
     "data": {
      "text/plain": [
       "(198910, 43)"
      ]
     },
     "execution_count": 77,
     "metadata": {},
     "output_type": "execute_result"
    }
   ],
   "source": [
    "dataSet.shape"
   ]
  },
  {
   "cell_type": "markdown",
   "id": "63e309b7",
   "metadata": {},
   "source": [
    "Como se puede observar, tenemos 198910 filas y 43 columnas"
   ]
  },
  {
   "cell_type": "markdown",
   "id": "555de0f4",
   "metadata": {},
   "source": [
    "b)  Mostrar primeras filas"
   ]
  },
  {
   "cell_type": "code",
   "execution_count": 78,
   "id": "f8a000e7",
   "metadata": {},
   "outputs": [
    {
     "data": {
      "text/html": [
       "<div>\n",
       "<style scoped>\n",
       "    .dataframe tbody tr th:only-of-type {\n",
       "        vertical-align: middle;\n",
       "    }\n",
       "\n",
       "    .dataframe tbody tr th {\n",
       "        vertical-align: top;\n",
       "    }\n",
       "\n",
       "    .dataframe thead th {\n",
       "        text-align: right;\n",
       "    }\n",
       "</style>\n",
       "<table border=\"1\" class=\"dataframe\">\n",
       "  <thead>\n",
       "    <tr style=\"text-align: right;\">\n",
       "      <th></th>\n",
       "      <th>Permit Number</th>\n",
       "      <th>Permit Type</th>\n",
       "      <th>Permit Type Definition</th>\n",
       "      <th>Permit Creation Date</th>\n",
       "      <th>Block</th>\n",
       "      <th>Lot</th>\n",
       "      <th>Street Number</th>\n",
       "      <th>Street Number Suffix</th>\n",
       "      <th>Street Name</th>\n",
       "      <th>Street Suffix</th>\n",
       "      <th>...</th>\n",
       "      <th>Existing Construction Type</th>\n",
       "      <th>Existing Construction Type Description</th>\n",
       "      <th>Proposed Construction Type</th>\n",
       "      <th>Proposed Construction Type Description</th>\n",
       "      <th>Site Permit</th>\n",
       "      <th>Supervisor District</th>\n",
       "      <th>Neighborhoods - Analysis Boundaries</th>\n",
       "      <th>Zipcode</th>\n",
       "      <th>Location</th>\n",
       "      <th>Record ID</th>\n",
       "    </tr>\n",
       "  </thead>\n",
       "  <tbody>\n",
       "    <tr>\n",
       "      <th>0</th>\n",
       "      <td>M394467</td>\n",
       "      <td>8</td>\n",
       "      <td>otc alterations permit</td>\n",
       "      <td>5/15/2013</td>\n",
       "      <td>3751</td>\n",
       "      <td>172</td>\n",
       "      <td>300</td>\n",
       "      <td>0</td>\n",
       "      <td>03rD</td>\n",
       "      <td>St</td>\n",
       "      <td>...</td>\n",
       "      <td>NaN</td>\n",
       "      <td>NaN</td>\n",
       "      <td>NaN</td>\n",
       "      <td>NaN</td>\n",
       "      <td>NaN</td>\n",
       "      <td>NaN</td>\n",
       "      <td>NaN</td>\n",
       "      <td>NaN</td>\n",
       "      <td>NaN</td>\n",
       "      <td>1.304810e+12</td>\n",
       "    </tr>\n",
       "    <tr>\n",
       "      <th>1</th>\n",
       "      <td>2.01505E+11</td>\n",
       "      <td>8</td>\n",
       "      <td>otc alterations permit</td>\n",
       "      <td>5/22/2015</td>\n",
       "      <td>3556</td>\n",
       "      <td>6</td>\n",
       "      <td>328</td>\n",
       "      <td>A</td>\n",
       "      <td>gUeRrErO</td>\n",
       "      <td>St</td>\n",
       "      <td>...</td>\n",
       "      <td>5.0</td>\n",
       "      <td>wood frame (5)</td>\n",
       "      <td>5.0</td>\n",
       "      <td>wood frame (5)</td>\n",
       "      <td>NaN</td>\n",
       "      <td>8</td>\n",
       "      <td>Mission</td>\n",
       "      <td>94103.0</td>\n",
       "      <td>(37.765906581390105, -122.42453043666066)</td>\n",
       "      <td>1.382530e+12</td>\n",
       "    </tr>\n",
       "    <tr>\n",
       "      <th>2</th>\n",
       "      <td>M798247</td>\n",
       "      <td>8</td>\n",
       "      <td>otc alterations permit</td>\n",
       "      <td>6/16/2017</td>\n",
       "      <td>655</td>\n",
       "      <td>61</td>\n",
       "      <td>2426</td>\n",
       "      <td>A</td>\n",
       "      <td>pInE</td>\n",
       "      <td>St</td>\n",
       "      <td>...</td>\n",
       "      <td>NaN</td>\n",
       "      <td>NaN</td>\n",
       "      <td>NaN</td>\n",
       "      <td>NaN</td>\n",
       "      <td>NaN</td>\n",
       "      <td>2</td>\n",
       "      <td>Pacific Heights</td>\n",
       "      <td>94115.0</td>\n",
       "      <td>(37.78788490521045, -122.43641930200963)</td>\n",
       "      <td>1.467270e+12</td>\n",
       "    </tr>\n",
       "    <tr>\n",
       "      <th>3</th>\n",
       "      <td>2.01308E+11</td>\n",
       "      <td>8</td>\n",
       "      <td>otc alterations permit</td>\n",
       "      <td>8/16/2013</td>\n",
       "      <td>4267</td>\n",
       "      <td>29</td>\n",
       "      <td>2607</td>\n",
       "      <td>A</td>\n",
       "      <td>bRyAnT</td>\n",
       "      <td>St</td>\n",
       "      <td>...</td>\n",
       "      <td>5.0</td>\n",
       "      <td>wood frame (5)</td>\n",
       "      <td>5.0</td>\n",
       "      <td>wood frame (5)</td>\n",
       "      <td>NaN</td>\n",
       "      <td>9</td>\n",
       "      <td>Mission</td>\n",
       "      <td>94110.0</td>\n",
       "      <td>(37.75241643936911, -122.40877419451499)</td>\n",
       "      <td>1.314500e+12</td>\n",
       "    </tr>\n",
       "    <tr>\n",
       "      <th>4</th>\n",
       "      <td>2.01307E+11</td>\n",
       "      <td>8</td>\n",
       "      <td>otc alterations permit</td>\n",
       "      <td>7/26/2013</td>\n",
       "      <td>1518</td>\n",
       "      <td>37</td>\n",
       "      <td>535</td>\n",
       "      <td>A</td>\n",
       "      <td>26tH</td>\n",
       "      <td>Av</td>\n",
       "      <td>...</td>\n",
       "      <td>5.0</td>\n",
       "      <td>wood frame (5)</td>\n",
       "      <td>5.0</td>\n",
       "      <td>wood frame (5)</td>\n",
       "      <td>NaN</td>\n",
       "      <td>1</td>\n",
       "      <td>Outer Richmond</td>\n",
       "      <td>94121.0</td>\n",
       "      <td>(37.77928233382438, -122.48608415176169)</td>\n",
       "      <td>1.312290e+12</td>\n",
       "    </tr>\n",
       "  </tbody>\n",
       "</table>\n",
       "<p>5 rows × 43 columns</p>\n",
       "</div>"
      ],
      "text/plain": [
       "  Permit Number  Permit Type  Permit Type Definition Permit Creation Date  \\\n",
       "0       M394467            8  otc alterations permit            5/15/2013   \n",
       "1   2.01505E+11            8  otc alterations permit            5/22/2015   \n",
       "2       M798247            8  otc alterations permit            6/16/2017   \n",
       "3   2.01308E+11            8  otc alterations permit            8/16/2013   \n",
       "4   2.01307E+11            8  otc alterations permit            7/26/2013   \n",
       "\n",
       "  Block  Lot  Street Number Street Number Suffix Street Name Street Suffix  \\\n",
       "0  3751  172            300                    0        03rD            St   \n",
       "1  3556    6            328                    A    gUeRrErO            St   \n",
       "2   655   61           2426                    A        pInE            St   \n",
       "3  4267   29           2607                    A      bRyAnT            St   \n",
       "4  1518   37            535                    A        26tH            Av   \n",
       "\n",
       "   ...  Existing Construction Type Existing Construction Type Description  \\\n",
       "0  ...                         NaN                                    NaN   \n",
       "1  ...                         5.0                         wood frame (5)   \n",
       "2  ...                         NaN                                    NaN   \n",
       "3  ...                         5.0                         wood frame (5)   \n",
       "4  ...                         5.0                         wood frame (5)   \n",
       "\n",
       "  Proposed Construction Type Proposed Construction Type Description  \\\n",
       "0                        NaN                                    NaN   \n",
       "1                        5.0                         wood frame (5)   \n",
       "2                        NaN                                    NaN   \n",
       "3                        5.0                         wood frame (5)   \n",
       "4                        5.0                         wood frame (5)   \n",
       "\n",
       "  Site Permit Supervisor District Neighborhoods - Analysis Boundaries  \\\n",
       "0         NaN                 NaN                                 NaN   \n",
       "1         NaN                   8                             Mission   \n",
       "2         NaN                   2                     Pacific Heights   \n",
       "3         NaN                   9                             Mission   \n",
       "4         NaN                   1                      Outer Richmond   \n",
       "\n",
       "   Zipcode                                   Location     Record ID  \n",
       "0      NaN                                        NaN  1.304810e+12  \n",
       "1  94103.0  (37.765906581390105, -122.42453043666066)  1.382530e+12  \n",
       "2  94115.0   (37.78788490521045, -122.43641930200963)  1.467270e+12  \n",
       "3  94110.0   (37.75241643936911, -122.40877419451499)  1.314500e+12  \n",
       "4  94121.0   (37.77928233382438, -122.48608415176169)  1.312290e+12  \n",
       "\n",
       "[5 rows x 43 columns]"
      ]
     },
     "execution_count": 78,
     "metadata": {},
     "output_type": "execute_result"
    }
   ],
   "source": [
    "dataSet.head()"
   ]
  },
  {
   "cell_type": "markdown",
   "id": "489d16f7",
   "metadata": {},
   "source": [
    "c) Datos faltantes por fila"
   ]
  },
  {
   "cell_type": "code",
   "execution_count": 79,
   "id": "4f20756a",
   "metadata": {},
   "outputs": [
    {
     "data": {
      "text/plain": [
       "Permit Number                              0.000000\n",
       "Permit Type                                0.000000\n",
       "Permit Type Definition                     0.000000\n",
       "Permit Creation Date                       0.000000\n",
       "Block                                      0.000000\n",
       "Lot                                        0.000000\n",
       "Street Number                              0.000000\n",
       "Street Number Suffix                      98.885928\n",
       "Street Name                                0.000000\n",
       "Street Suffix                              1.391584\n",
       "Unit                                      85.179227\n",
       "Unit Suffix                               99.014127\n",
       "Description                                0.145795\n",
       "Current Status                             0.000000\n",
       "Current Status Date                        0.000000\n",
       "Filed Date                                 0.000000\n",
       "Issued Date                                7.511940\n",
       "Completed Date                            51.136192\n",
       "First Construction Document Date           7.514957\n",
       "Structural Notification                   96.520034\n",
       "Number of Existing Stories                21.511236\n",
       "Number of Proposed Stories                21.552964\n",
       "Voluntary Soft-Story Retrofit             99.982404\n",
       "Fire Only Permit                          90.534413\n",
       "Permit Expiration Date                    26.084159\n",
       "Estimated Cost                            19.138304\n",
       "Revised Cost                               3.049620\n",
       "Existing Use                              20.671158\n",
       "Existing Units                            25.912724\n",
       "Proposed Use                              21.336785\n",
       "Proposed Units                            25.597004\n",
       "Plansets                                  18.757730\n",
       "TIDF Compliance                           99.998995\n",
       "Existing Construction Type                21.803328\n",
       "Existing Construction Type Description    21.803831\n",
       "Proposed Construction Type                21.700769\n",
       "Proposed Construction Type Description    21.700769\n",
       "Site Permit                               97.305314\n",
       "Supervisor District                        0.864210\n",
       "Neighborhoods - Analysis Boundaries        0.867226\n",
       "Zipcode                                    0.862702\n",
       "Location                                   0.854658\n",
       "Record ID                                  0.000000\n",
       "dtype: float64"
      ]
     },
     "execution_count": 79,
     "metadata": {},
     "output_type": "execute_result"
    }
   ],
   "source": [
    "dataSet.isnull().sum()*100/len(dataSet)"
   ]
  },
  {
   "cell_type": "markdown",
   "id": "e7525aa9",
   "metadata": {},
   "source": [
    "Los primeros datos que vemos con varios nulos son la unidad, el sufijo de la unidad y el sufijo del numero de calle (Street Number Suffix, Unit, Unit Suffix). Esta informacion puede no corresponder a ciertas ubicaciones y por eso es que hay varios valores nulos. Ademas, puede que hayan puesto esta informacion en la direccion directamente, sin dividir por categoria o tambien puede ser que no sepan esta informacion especifica al rellenar el formulario."
   ]
  },
  {
   "cell_type": "markdown",
   "id": "c4154e0f",
   "metadata": {},
   "source": [
    "Luego, la fecha de finalizacion tiene la mitad con nulos, esto problablemente se deba a que los trabajos no han sido completados. Vemos que si hacemos la comparacion del estado con la fecha de completado, los que tienen fecha la gran mayoria se encuentran completados y los que no tienen fecha ninguno de ellos esta completo."
   ]
  },
  {
   "cell_type": "code",
   "execution_count": 80,
   "id": "50c4b0c5",
   "metadata": {},
   "outputs": [],
   "source": [
    "estado_sin_fecha = dataSet[dataSet['Completed Date'].isna()]['Current Status'].value_counts()\n",
    "estado_con_fecha = dataSet[dataSet['Completed Date'].notna()]['Current Status'].value_counts()"
   ]
  },
  {
   "cell_type": "code",
   "execution_count": 81,
   "id": "e106210d",
   "metadata": {},
   "outputs": [
    {
     "name": "stdout",
     "output_type": "stream",
     "text": [
      "Current Status\n",
      "issued         83510\n",
      "filed          12045\n",
      "withdrawn       1754\n",
      "cancelled       1531\n",
      "expired         1363\n",
      "approved         728\n",
      "reinstated       527\n",
      "suspend          190\n",
      "revoked           46\n",
      "plancheck         16\n",
      "disapproved        2\n",
      "appeal             2\n",
      "incomplete         1\n",
      "Name: count, dtype: int64\n"
     ]
    }
   ],
   "source": [
    "print(estado_sin_fecha)"
   ]
  },
  {
   "cell_type": "code",
   "execution_count": 82,
   "id": "8396b1f4",
   "metadata": {},
   "outputs": [
    {
     "name": "stdout",
     "output_type": "stream",
     "text": [
      "Current Status\n",
      "complete      97081\n",
      "issued           53\n",
      "reinstated       36\n",
      "expired           7\n",
      "cancelled         5\n",
      "approved          5\n",
      "revoked           4\n",
      "suspend           3\n",
      "incomplete        1\n",
      "Name: count, dtype: int64\n"
     ]
    }
   ],
   "source": [
    "print(estado_con_fecha)"
   ]
  },
  {
   "cell_type": "markdown",
   "id": "9b25e70d",
   "metadata": {},
   "source": [
    "\n",
    "En el caso de Notificacion estructural, reforzmiento voluntario de pisos blandos, permiso de incendios, cumplimiento TIDF y permiso de sitio (Structural Notification, Voluntary Soft-Story Retrofit, Fire Only Permit, TIDF Compliance, Site Permit) al ser variables booleanas, el no se deja como vacio y por eso hay tantos null."
   ]
  },
  {
   "cell_type": "code",
   "execution_count": 83,
   "id": "30999aa2",
   "metadata": {},
   "outputs": [
    {
     "data": {
      "text/plain": [
       "Structural Notification\n",
       "Y    6922\n",
       "Name: count, dtype: int64"
      ]
     },
     "execution_count": 83,
     "metadata": {},
     "output_type": "execute_result"
    }
   ],
   "source": [
    "dataSet['Structural Notification'].value_counts()"
   ]
  },
  {
   "cell_type": "markdown",
   "id": "fb972a6d",
   "metadata": {},
   "source": [
    "e, f, g) \n",
    "\n",
    "Variables Discretas:\n",
    "- `Permit Type`\n",
    "- `Permit Type Definition`\n",
    "- `Current Status`\n",
    "- `Structural Notification` <--\n",
    "\n",
    "- `Voluntary Soft-Story Retrofit` <--\n",
    "\n",
    "- `Fire Only Permit` <--\n",
    "\n",
    "- `Existing Use` \n",
    "\n",
    "\n",
    "\n",
    "\n",
    "- `tidf compliance` <--\n",
    " \n",
    "\n",
    "- `site permit` <--"
   ]
  },
  {
   "cell_type": "markdown",
   "metadata": {},
   "source": [
    "    Permit Type and Definition"
   ]
  },
  {
   "cell_type": "markdown",
   "metadata": {},
   "source": [
    "Las 2 primeras variables discretas son el tipo de permiso y su descripcion"
   ]
  },
  {
   "cell_type": "code",
   "execution_count": 84,
   "id": "886aa6b8",
   "metadata": {},
   "outputs": [
    {
     "data": {
      "text/plain": [
       "Permit Type\n",
       "8    178852\n",
       "3     14664\n",
       "4      2892\n",
       "2       950\n",
       "6       600\n",
       "7       511\n",
       "1       350\n",
       "5        91\n",
       "Name: count, dtype: int64"
      ]
     },
     "execution_count": 84,
     "metadata": {},
     "output_type": "execute_result"
    }
   ],
   "source": [
    "dataSet['Permit Type'].value_counts(dropna=False)"
   ]
  },
  {
   "cell_type": "code",
   "execution_count": 85,
   "metadata": {},
   "outputs": [
    {
     "data": {
      "text/plain": [
       "Permit Type Definition\n",
       "otc alterations permit                 178836\n",
       "additions alterations or repairs        14663\n",
       "sign - erect                             2892\n",
       "new construction wood frame               950\n",
       "demolitions                               600\n",
       "wall or painted sign                      511\n",
       "new construction                          347\n",
       "grade or quarry or fill or excavate        91\n",
       " otc alterations permit                     8\n",
       "otc alterations permit #                    8\n",
       "new construction #                          2\n",
       " new construction                           1\n",
       " additions alterations or repairs           1\n",
       "Name: count, dtype: int64"
      ]
     },
     "execution_count": 85,
     "metadata": {},
     "output_type": "execute_result"
    }
   ],
   "source": [
    "dataSet['Permit Type Definition'].value_counts()"
   ]
  },
  {
   "cell_type": "markdown",
   "metadata": {},
   "source": [
    "Como se puede observar, el tipo de permiso tiene valores que van del 1 al 8. La descripcion del tipo de permiso se deberia de corresponder con algun numero, pero se nota que hay mas definiciones. Esto se debe a que las definiciones, a pesar de significar lo mismo tienen algun caracter de diferencia por lo que las pone en lugares distintos."
   ]
  },
  {
   "cell_type": "markdown",
   "metadata": {},
   "source": [
    "Si agrupamos los numeros y que definicion tiene cada uno, se observa lo siguiente:"
   ]
  },
  {
   "cell_type": "code",
   "execution_count": 86,
   "id": "e7a54a9e",
   "metadata": {},
   "outputs": [
    {
     "name": "stdout",
     "output_type": "stream",
     "text": [
      "Permiso 1\n",
      "['new construction' ' new construction ' 'new construction #']\n",
      "Permiso 2\n",
      "['new construction wood frame']\n",
      "Permiso 3\n",
      "['additions alterations or repairs' ' additions alterations or repairs ']\n",
      "Permiso 4\n",
      "['sign - erect']\n",
      "Permiso 5\n",
      "['grade or quarry or fill or excavate']\n",
      "Permiso 6\n",
      "['demolitions']\n",
      "Permiso 7\n",
      "['wall or painted sign']\n",
      "Permiso 8\n",
      "['otc alterations permit' ' otc alterations permit '\n",
      " 'otc alterations permit #']\n"
     ]
    }
   ],
   "source": [
    "grupos=dataSet.groupby('Permit Type')['Permit Type Definition'].unique()\n",
    "for i,v in enumerate(grupos):\n",
    "    print(f\"Permiso {i+1}\")\n",
    "    print(v)"
   ]
  },
  {
   "cell_type": "markdown",
   "metadata": {},
   "source": [
    "Habria que modificar las definiciones de permiso 1, 3 y 8 para que concuerden, estandarizar los no comunes"
   ]
  },
  {
   "cell_type": "code",
   "execution_count": 87,
   "metadata": {},
   "outputs": [],
   "source": [
    "value_counts = dataSet['Permit Type'].value_counts()\n",
    "\n",
    "# Separate the values and frequencies into two arrays\n",
    "values_array = value_counts.index.to_numpy()\n"
   ]
  },
  {
   "cell_type": "code",
   "execution_count": 88,
   "metadata": {},
   "outputs": [
    {
     "data": {
      "image/png": "[encoded data removed]",
      "text/plain": [
       "<Figure size 640x480 with 1 Axes>"
      ]
     },
     "metadata": {},
     "output_type": "display_data"
    }
   ],
   "source": [
    "\n",
    "plt.bar(values_array,value_counts, color='skyblue', edgecolor='black')\n",
    "plt.title('Histograma de Valores')\n",
    "plt.xlabel('Numero de permiso')\n",
    "plt.ylabel('Frecuencia')\n",
    "\n",
    "plt.show()"
   ]
  },
  {
   "cell_type": "markdown",
   "metadata": {},
   "source": [
    "    Current Status"
   ]
  },
  {
   "cell_type": "markdown",
   "metadata": {},
   "source": [
    "El estado actual tambien es una variable discreta y tiene 14 valores distinitos, los cuales todos parecen correctos y no se repiten de manera extraña "
   ]
  },
  {
   "cell_type": "code",
   "execution_count": 89,
   "id": "ab3236f0",
   "metadata": {},
   "outputs": [
    {
     "data": {
      "text/plain": [
       "Current Status\n",
       "complete       97081\n",
       "issued         83563\n",
       "filed          12045\n",
       "withdrawn       1754\n",
       "cancelled       1536\n",
       "expired         1370\n",
       "approved         733\n",
       "reinstated       563\n",
       "suspend          193\n",
       "revoked           50\n",
       "plancheck         16\n",
       "incomplete         2\n",
       "disapproved        2\n",
       "appeal             2\n",
       "Name: count, dtype: int64"
      ]
     },
     "execution_count": 89,
     "metadata": {},
     "output_type": "execute_result"
    }
   ],
   "source": [
    "dataSet['Current Status'].value_counts()"
   ]
  },
  {
   "cell_type": "code",
   "execution_count": 90,
   "metadata": {},
   "outputs": [],
   "source": [
    "value_counts = dataSet['Current Status'].value_counts()\n",
    "values_array = value_counts.index.to_numpy()\n"
   ]
  },
  {
   "cell_type": "code",
   "execution_count": 91,
   "metadata": {},
   "outputs": [
    {
     "data": {
      "image/png": "[encoded data removed]",
      "text/plain": [
       "<Figure size 640x480 with 1 Axes>"
      ]
     },
     "metadata": {},
     "output_type": "display_data"
    }
   ],
   "source": [
    "plt.barh(values_array,value_counts, color='skyblue', edgecolor='black')\n",
    "plt.title('Histograma de Valores')\n",
    "plt.ylabel('Estado')\n",
    "plt.xlabel('Frecuencia')\n",
    "\n",
    "plt.show()"
   ]
  },
  {
   "cell_type": "markdown",
   "metadata": {},
   "source": [
    "    Binarias"
   ]
  },
  {
   "cell_type": "markdown",
   "id": "87814ca0",
   "metadata": {},
   "source": [
    "Las variables discretas Voluntary Soft-Story Retrfit, Structural Notification, Fire Only Permit, Site Permit y TIDF Compliance son variables binarias, por lo tanto sus posibles valores son si o no, en este caso el no se representa con el nulo.\n"
   ]
  },
  {
   "cell_type": "code",
   "execution_count": 92,
   "id": "04511a8f",
   "metadata": {},
   "outputs": [
    {
     "data": {
      "text/plain": [
       "Structural Notification\n",
       "Y    6922\n",
       "Name: count, dtype: int64"
      ]
     },
     "execution_count": 92,
     "metadata": {},
     "output_type": "execute_result"
    }
   ],
   "source": [
    "dataSet['Structural Notification'].value_counts()"
   ]
  },
  {
   "cell_type": "code",
   "execution_count": 93,
   "metadata": {},
   "outputs": [],
   "source": [
    "value_counts = dataSet['Structural Notification'].value_counts(dropna=False)\n",
    "values_array=['N','Y']\n"
   ]
  },
  {
   "cell_type": "code",
   "execution_count": 94,
   "metadata": {},
   "outputs": [
    {
     "data": {
      "image/png": "[encoded data removed]",
      "text/plain": [
       "<Figure size 640x480 with 1 Axes>"
      ]
     },
     "metadata": {},
     "output_type": "display_data"
    }
   ],
   "source": [
    "plt.bar(values_array,value_counts, color='skyblue', edgecolor='black')\n",
    "plt.title('Histograma de Valores')\n",
    "plt.ylabel('Notificacion Estructural')\n",
    "plt.xlabel('Frecuencia')\n",
    "\n",
    "plt.show()"
   ]
  },
  {
   "cell_type": "code",
   "execution_count": 95,
   "id": "f349657a",
   "metadata": {},
   "outputs": [
    {
     "data": {
      "text/plain": [
       "Voluntary Soft-Story Retrofit\n",
       "Y    35\n",
       "Name: count, dtype: int64"
      ]
     },
     "execution_count": 95,
     "metadata": {},
     "output_type": "execute_result"
    }
   ],
   "source": [
    "dataSet['Voluntary Soft-Story Retrofit'].value_counts()"
   ]
  },
  {
   "cell_type": "code",
   "execution_count": 96,
   "metadata": {},
   "outputs": [],
   "source": [
    "value_counts = dataSet['Voluntary Soft-Story Retrofit'].value_counts(dropna=False)\n",
    "values_array=['N','Y']"
   ]
  },
  {
   "cell_type": "code",
   "execution_count": 97,
   "metadata": {},
   "outputs": [
    {
     "data": {
      "image/png": "[encoded data removed]",
      "text/plain": [
       "<Figure size 640x480 with 1 Axes>"
      ]
     },
     "metadata": {},
     "output_type": "display_data"
    }
   ],
   "source": [
    "plt.bar(values_array,value_counts, color='skyblue', edgecolor='black')\n",
    "plt.title('Histograma de Valores')\n",
    "plt.ylabel('Voluntario')\n",
    "plt.xlabel('Frecuencia')\n",
    "\n",
    "plt.show()"
   ]
  },
  {
   "cell_type": "code",
   "execution_count": 98,
   "id": "7ae52f5b",
   "metadata": {},
   "outputs": [
    {
     "data": {
      "text/plain": [
       "Fire Only Permit\n",
       "Y    18828\n",
       "Name: count, dtype: int64"
      ]
     },
     "execution_count": 98,
     "metadata": {},
     "output_type": "execute_result"
    }
   ],
   "source": [
    "dataSet['Fire Only Permit'].value_counts()"
   ]
  },
  {
   "cell_type": "code",
   "execution_count": 99,
   "id": "e61f2d2b",
   "metadata": {},
   "outputs": [],
   "source": [
    "value_counts = dataSet['Fire Only Permit'].value_counts(dropna=False)\n",
    "values_array=['N','Y']"
   ]
  },
  {
   "cell_type": "code",
   "execution_count": 100,
   "id": "92be0c22",
   "metadata": {},
   "outputs": [
    {
     "data": {
      "image/png": "[encoded data removed]",
      "text/plain": [
       "<Figure size 640x480 with 1 Axes>"
      ]
     },
     "metadata": {},
     "output_type": "display_data"
    }
   ],
   "source": [
    "plt.bar(values_array,value_counts, color='skyblue', edgecolor='black')\n",
    "plt.title('Histograma de Valores')\n",
    "plt.ylabel('Permiso contra incendio')\n",
    "plt.xlabel('Frecuencia')\n",
    "\n",
    "plt.show()"
   ]
  },
  {
   "cell_type": "code",
   "execution_count": 101,
   "id": "594d08a5",
   "metadata": {},
   "outputs": [
    {
     "data": {
      "text/plain": [
       "Site Permit\n",
       "Y    5360\n",
       "Name: count, dtype: int64"
      ]
     },
     "execution_count": 101,
     "metadata": {},
     "output_type": "execute_result"
    }
   ],
   "source": [
    "dataSet['Site Permit'].value_counts()"
   ]
  },
  {
   "cell_type": "code",
   "execution_count": 102,
   "metadata": {},
   "outputs": [],
   "source": [
    "value_counts = dataSet['Site Permit'].value_counts(dropna=False)\n",
    "values_array=['N','Y']"
   ]
  },
  {
   "cell_type": "code",
   "execution_count": 103,
   "metadata": {},
   "outputs": [
    {
     "data": {
      "image/png": "[encoded data removed]",
      "text/plain": [
       "<Figure size 640x480 with 1 Axes>"
      ]
     },
     "metadata": {},
     "output_type": "display_data"
    }
   ],
   "source": [
    "plt.bar(values_array,value_counts, color='skyblue', edgecolor='black')\n",
    "plt.title('Histograma de Valores')\n",
    "plt.ylabel('Permiso de sitio')\n",
    "plt.xlabel('Frecuencia')\n",
    "\n",
    "plt.show()"
   ]
  },
  {
   "cell_type": "markdown",
   "id": "e4384b44",
   "metadata": {},
   "source": [
    "En el caso de TIDF Compliance ademas aparece una P, la cual nosotros suponemos que significa positivo."
   ]
  },
  {
   "cell_type": "code",
   "execution_count": 104,
   "id": "8af946fa",
   "metadata": {},
   "outputs": [
    {
     "data": {
      "text/plain": [
       "TIDF Compliance\n",
       "P    1\n",
       "Y    1\n",
       "Name: count, dtype: int64"
      ]
     },
     "execution_count": 104,
     "metadata": {},
     "output_type": "execute_result"
    }
   ],
   "source": [
    "dataSet['TIDF Compliance'].value_counts()"
   ]
  },
  {
   "cell_type": "markdown",
   "id": "fa65aa9d",
   "metadata": {},
   "source": [
    "# 4.  Limpieza de datos"
   ]
  },
  {
   "cell_type": "markdown",
   "metadata": {},
   "source": [
    "La primera decision que tomaremos es estandarizar el Permit Type Definition, donde, el numero de permiso solo tenga una definicion.Esto lo haremos en los tipos de permisos 1, 3 y 8"
   ]
  },
  {
   "cell_type": "code",
   "execution_count": 105,
   "id": "218601f3",
   "metadata": {},
   "outputs": [],
   "source": [
    "filtro1=dataSet['Permit Type'] == 1\n",
    "dataSet.loc[filtro1, 'Permit Type Definition'] = \"new construction\"\n",
    "filtro3=dataSet['Permit Type'] == 3\n",
    "dataSet.loc[filtro3, 'Permit Type Definition'] = \"additions alterations or repairs\"\n",
    "filtro8=dataSet['Permit Type'] == 8\n",
    "dataSet.loc[filtro8, 'Permit Type Definition'] = \"otc alterations permit\"\n"
   ]
  },
  {
   "cell_type": "code",
   "execution_count": 106,
   "metadata": {},
   "outputs": [
    {
     "name": "stdout",
     "output_type": "stream",
     "text": [
      "Permiso 1\n",
      "['new construction']\n",
      "Permiso 2\n",
      "['new construction wood frame']\n",
      "Permiso 3\n",
      "['additions alterations or repairs']\n",
      "Permiso 4\n",
      "['sign - erect']\n",
      "Permiso 5\n",
      "['grade or quarry or fill or excavate']\n",
      "Permiso 6\n",
      "['demolitions']\n",
      "Permiso 7\n",
      "['wall or painted sign']\n",
      "Permiso 8\n",
      "['otc alterations permit']\n"
     ]
    }
   ],
   "source": [
    "grupos=dataSet.groupby('Permit Type')['Permit Type Definition'].unique()\n",
    "for i,v in enumerate(grupos):\n",
    "    print(f\"Permiso {i+1}\")\n",
    "    print(v)"
   ]
  },
  {
   "cell_type": "code",
   "execution_count": null,
   "metadata": {},
   "outputs": [],
   "source": []
  },
  {
   "cell_type": "markdown",
   "metadata": {},
   "source": [
    "dataSet."
   ]
  },
  {
   "cell_type": "code",
   "execution_count": null,
   "metadata": {},
   "outputs": [],
   "source": []
  },
  {
   "cell_type": "markdown",
   "metadata": {},
   "source": [
    "La siguiente columna a tratar seria la de Street Name, que si vemos los datos, tiene nombes con mayusculas y minusculas."
   ]
  },
  {
   "cell_type": "code",
   "execution_count": 107,
   "metadata": {},
   "outputs": [
    {
     "data": {
      "text/plain": [
       "0              03rD\n",
       "1          gUeRrErO\n",
       "2              pInE\n",
       "3            bRyAnT\n",
       "4              26tH\n",
       "            ...    \n",
       "198905         20tH\n",
       "198906     mArIpOsA\n",
       "198907    sAn bRuNo\n",
       "198908     bRoAdWaY\n",
       "198909       mArKeT\n",
       "Name: Street Name, Length: 198910, dtype: object"
      ]
     },
     "execution_count": 107,
     "metadata": {},
     "output_type": "execute_result"
    }
   ],
   "source": [
    "dataSet[\"Street Name\"]"
   ]
  },
  {
   "cell_type": "code",
   "execution_count": 108,
   "metadata": {},
   "outputs": [
    {
     "data": {
      "text/plain": [
       "0              03rd\n",
       "1          guerrero\n",
       "2              pine\n",
       "3            bryant\n",
       "4              26th\n",
       "            ...    \n",
       "198905         20th\n",
       "198906     mariposa\n",
       "198907    san bruno\n",
       "198908     broadway\n",
       "198909       market\n",
       "Name: Street Name, Length: 198910, dtype: object"
      ]
     },
     "execution_count": 108,
     "metadata": {},
     "output_type": "execute_result"
    }
   ],
   "source": [
    "dataSet[\"Street Name\"]=dataSet[\"Street Name\"].str.lower()\n",
    "dataSet[\"Street Name\"]"
   ]
  },
  {
   "cell_type": "markdown",
   "metadata": {},
   "source": [
    "Las proximas columnas seran las booleanas, tomaremos el nulo como un no, por lo que sustituiremos esos valores"
   ]
  },
  {
   "cell_type": "code",
   "execution_count": 122,
   "metadata": {},
   "outputs": [],
   "source": [
    "filtroSN=dataSet['Structural Notification'].isnull()\n",
    "dataSet.loc[filtroSN, 'Structural Notification'] = \"N\"\n",
    "filtroVR=dataSet['Voluntary Soft-Story Retrofit'].isnull()\n",
    "dataSet.loc[filtroVR, 'Voluntary Soft-Story Retrofit'] = \"N\"\n",
    "filtroFO=dataSet['Fire Only Permit'].isnull()\n",
    "dataSet.loc[filtroFO, 'Fire Only Permit'] = \"N\"\n",
    "filtroSP=dataSet['Site Permit'].isnull()\n",
    "dataSet.loc[filtroSP, 'Site Permit'] = \"N\"\n",
    "filtroSP=dataSet['TIDF Compliance'].isnull()\n",
    "dataSet.loc[filtroSP, 'TIDF Compliance'] = \"N\"\n"
   ]
  },
  {
   "cell_type": "markdown",
   "id": "333f1ffc",
   "metadata": {},
   "source": [
    "# 5. Normalización de datos"
   ]
  },
  {
   "cell_type": "markdown",
   "id": "36bda3c2",
   "metadata": {},
   "source": [
    "a)"
   ]
  },
  {
   "cell_type": "code",
   "execution_count": 117,
   "id": "c9286c5d",
   "metadata": {},
   "outputs": [
    {
     "name": "stdout",
     "output_type": "stream",
     "text": [
      "Estimated Cost  Revised Cost  Number of Existing Stories  Number of Proposed Stories\n",
      "0.000000        1.281230e-09  0.038462                    0.038462                      4638\n",
      "                              0.025641                    0.025641                      3909\n",
      "                              0.051282                    0.051282                      1626\n",
      "0.000009        6.406150e-06  0.025641                    0.025641                      1576\n",
      "0.000019        1.281230e-05  0.025641                    0.025641                      1430\n",
      "                                                                                        ... \n",
      "0.000023        1.665599e-05  0.025641                    0.025641                         1\n",
      "                1.601537e-05  0.512821                    0.512821                         1\n",
      "                1.591160e-05  0.025641                    0.025641                         1\n",
      "                1.590903e-05  0.025641                    0.025641                         1\n",
      "0.632019        3.408860e-01  0.025641                    0.038462                         1\n",
      "Name: count, Length: 39819, dtype: int64\n"
     ]
    }
   ],
   "source": [
    "columnas_numericas = ['Estimated Cost', 'Revised Cost', 'Number of Existing Stories', 'Number of Proposed Stories']\n",
    "scaler = MinMaxScaler()\n",
    "dataSet[columnas_numericas] = scaler.fit_transform(dataSet[columnas_numericas])\n",
    "print(dataSet[columnas_numericas].value_counts())\n",
    "\n"
   ]
  },
  {
   "cell_type": "markdown",
   "id": "a43190b0",
   "metadata": {},
   "source": [
    "b)"
   ]
  },
  {
   "cell_type": "markdown",
   "id": "d02d1bf1",
   "metadata": {},
   "source": [
    "El normalizar los datos permite que los valores muy grandes no dominen el modelo,ademas al estar acotado permite que se puedan delimitar los margenes con mayor facilidad en los algoritmos. Una utilidad de la normalizacion es que mejora la visualizacion de los datos a la hora de graficar, sobretodo cuando hay diferencias muy grandes en los valores."
   ]
  },
  {
   "cell_type": "markdown",
   "id": "395b055e",
   "metadata": {},
   "source": [
    "# 6. Utilizar la librería de Data Profiling vista en el curso y comparar las "
   ]
  },
  {
   "cell_type": "code",
   "execution_count": 120,
   "id": "501a6b70",
   "metadata": {},
   "outputs": [
    {
     "data": {
      "application/vnd.jupyter.widget-view+json": {
       "model_id": "87b038b37c7f4b2196a4354ec315f844",
       "version_major": 2,
       "version_minor": 0
      },
      "text/plain": [
       "Summarize dataset:   0%|          | 0/5 [00:00<?, ?it/s]"
      ]
     },
     "metadata": {},
     "output_type": "display_data"
    },
    {
     "data": {
      "application/vnd.jupyter.widget-view+json": {
       "model_id": "73ddd437365d4f0f84f4d64aa928f974",
       "version_major": 2,
       "version_minor": 0
      },
      "text/plain": [
       "Generate report structure:   0%|          | 0/1 [00:00<?, ?it/s]"
      ]
     },
     "metadata": {},
     "output_type": "display_data"
    },
    {
     "data": {
      "application/vnd.jupyter.widget-view+json": {
       "model_id": "df81cfbd4b1f49e6a16e5554969808a6",
       "version_major": 2,
       "version_minor": 0
      },
      "text/plain": [
       "Render HTML:   0%|          | 0/1 [00:00<?, ?it/s]"
      ]
     },
     "metadata": {},
     "output_type": "display_data"
    },
    {
     "data": {
      "application/vnd.jupyter.widget-view+json": {
       "model_id": "a8e6426940cf4e33985453893ff33e46",
       "version_major": 2,
       "version_minor": 0
      },
      "text/plain": [
       "Export report to file:   0%|          | 0/1 [00:00<?, ?it/s]"
      ]
     },
     "metadata": {},
     "output_type": "display_data"
    }
   ],
   "source": [
    "original_df = pd.read_csv(\"permisos_construccion_2.csv\",low_memory=False)\n",
    "dp = ProfileReport(original_df,title=\"Reporte\", explorative=True)\n",
    "dp.to_file(output_file=\"Profiling_html.html\")"
   ]
  }
 ],
 "metadata": {
  "kernelspec": {
   "display_name": "Python 3 (ipykernel)",
   "language": "python",
   "name": "python3"
  },
  "language_info": {
   "codemirror_mode": {
    "name": "ipython",
    "version": 3
   },
   "file_extension": ".py",
   "mimetype": "text/x-python",
   "name": "python",
   "nbconvert_exporter": "python",
   "pygments_lexer": "ipython3",
   "version": "3.11.3"
  }
 },
 "nbformat": 4,
 "nbformat_minor": 5
}
